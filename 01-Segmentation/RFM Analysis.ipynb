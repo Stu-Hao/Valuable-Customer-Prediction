{
 "cells": [
  {
   "cell_type": "code",
   "execution_count": 1,
   "metadata": {},
   "outputs": [],
   "source": [
    "import pandas as pd\n",
    "import numpy as np\n",
    "import matplotlib.pyplot as plt\n",
    "import seaborn as sns\n",
    "%matplotlib inline"
   ]
  },
  {
   "cell_type": "code",
   "execution_count": 2,
   "metadata": {},
   "outputs": [],
   "source": [
    "plt.style.use('ggplot')"
   ]
  },
  {
   "cell_type": "code",
   "execution_count": 3,
   "metadata": {},
   "outputs": [],
   "source": [
    "from IPython.core.interactiveshell import InteractiveShell\n",
    "InteractiveShell.ast_node_interactivity = \"all\""
   ]
  },
  {
   "cell_type": "code",
   "execution_count": 4,
   "metadata": {},
   "outputs": [],
   "source": [
    "SALES_DATA=pd.read_csv('SALES_DATA.csv')"
   ]
  },
  {
   "cell_type": "code",
   "execution_count": 5,
   "metadata": {},
   "outputs": [
    {
     "name": "stdout",
     "output_type": "stream",
     "text": [
      "<class 'pandas.core.frame.DataFrame'>\n",
      "RangeIndex: 566309 entries, 0 to 566308\n",
      "Data columns (total 16 columns):\n",
      "InvoiceNo           566309 non-null object\n",
      "StockCode           566309 non-null object\n",
      "Quantity Shipped    566309 non-null float64\n",
      "Year                566309 non-null object\n",
      "Invoice Date        566309 non-null object\n",
      "UnitPrice           566309 non-null float64\n",
      "Ext-Price           566309 non-null float64\n",
      "CustomerID          566309 non-null int64\n",
      "Country             566309 non-null object\n",
      "GM%                 566309 non-null object\n",
      "Shipper             566309 non-null object\n",
      "COST                566309 non-null object\n",
      "EXT COST            566309 non-null float64\n",
      "REGION              566309 non-null object\n",
      "SALES P             566309 non-null object\n",
      "Unnamed: 15         166199 non-null float64\n",
      "dtypes: float64(5), int64(1), object(10)\n",
      "memory usage: 69.1+ MB\n"
     ]
    },
    {
     "data": {
      "text/html": [
       "<div>\n",
       "<style scoped>\n",
       "    .dataframe tbody tr th:only-of-type {\n",
       "        vertical-align: middle;\n",
       "    }\n",
       "\n",
       "    .dataframe tbody tr th {\n",
       "        vertical-align: top;\n",
       "    }\n",
       "\n",
       "    .dataframe thead th {\n",
       "        text-align: right;\n",
       "    }\n",
       "</style>\n",
       "<table border=\"1\" class=\"dataframe\">\n",
       "  <thead>\n",
       "    <tr style=\"text-align: right;\">\n",
       "      <th></th>\n",
       "      <th>InvoiceNo</th>\n",
       "      <th>StockCode</th>\n",
       "      <th>Quantity Shipped</th>\n",
       "      <th>Year</th>\n",
       "      <th>Invoice Date</th>\n",
       "      <th>UnitPrice</th>\n",
       "      <th>Ext-Price</th>\n",
       "      <th>CustomerID</th>\n",
       "      <th>Country</th>\n",
       "      <th>GM%</th>\n",
       "      <th>Shipper</th>\n",
       "      <th>COST</th>\n",
       "      <th>EXT COST</th>\n",
       "      <th>REGION</th>\n",
       "      <th>SALES P</th>\n",
       "      <th>Unnamed: 15</th>\n",
       "    </tr>\n",
       "  </thead>\n",
       "  <tbody>\n",
       "    <tr>\n",
       "      <th>0</th>\n",
       "      <td>568200</td>\n",
       "      <td>PADS</td>\n",
       "      <td>5.000</td>\n",
       "      <td>2,017</td>\n",
       "      <td>09/25/17</td>\n",
       "      <td>1.000</td>\n",
       "      <td>5.00</td>\n",
       "      <td>16198</td>\n",
       "      <td>United Kingdom</td>\n",
       "      <td>0%</td>\n",
       "      <td>Delivery Truck</td>\n",
       "      <td>1</td>\n",
       "      <td>4.999763</td>\n",
       "      <td>SOUTH</td>\n",
       "      <td>GRACE J</td>\n",
       "      <td>NaN</td>\n",
       "    </tr>\n",
       "    <tr>\n",
       "      <th>1</th>\n",
       "      <td>568375</td>\n",
       "      <td>BANK CHARGES</td>\n",
       "      <td>5.000</td>\n",
       "      <td>2,017</td>\n",
       "      <td>09/26/17</td>\n",
       "      <td>1.000</td>\n",
       "      <td>5.00</td>\n",
       "      <td>13405</td>\n",
       "      <td>United Kingdom</td>\n",
       "      <td>100%</td>\n",
       "      <td>UPS Next day Air</td>\n",
       "      <td>-</td>\n",
       "      <td>0.000000</td>\n",
       "      <td>WEST</td>\n",
       "      <td>JEFF Y</td>\n",
       "      <td>NaN</td>\n",
       "    </tr>\n",
       "    <tr>\n",
       "      <th>2</th>\n",
       "      <td>561226</td>\n",
       "      <td>PADS</td>\n",
       "      <td>5.000</td>\n",
       "      <td>2,017</td>\n",
       "      <td>07/26/17</td>\n",
       "      <td>1.000</td>\n",
       "      <td>5.00</td>\n",
       "      <td>15618</td>\n",
       "      <td>United Kingdom</td>\n",
       "      <td>0%</td>\n",
       "      <td>Delivery Truck</td>\n",
       "      <td>1</td>\n",
       "      <td>4.999763</td>\n",
       "      <td>SOUTH</td>\n",
       "      <td>GRACE J</td>\n",
       "      <td>NaN</td>\n",
       "    </tr>\n",
       "    <tr>\n",
       "      <th>3</th>\n",
       "      <td>2550193</td>\n",
       "      <td>PADS</td>\n",
       "      <td>7.080</td>\n",
       "      <td>2,018</td>\n",
       "      <td>06/08/18</td>\n",
       "      <td>1.000</td>\n",
       "      <td>7.08</td>\n",
       "      <td>13952</td>\n",
       "      <td>United Kingdom</td>\n",
       "      <td>0%</td>\n",
       "      <td>UPS ground 2nd day</td>\n",
       "      <td>1</td>\n",
       "      <td>7.079664</td>\n",
       "      <td>CENTRAL</td>\n",
       "      <td>PETER T</td>\n",
       "      <td>NaN</td>\n",
       "    </tr>\n",
       "    <tr>\n",
       "      <th>4</th>\n",
       "      <td>550193</td>\n",
       "      <td>PADS</td>\n",
       "      <td>5.000</td>\n",
       "      <td>2,017</td>\n",
       "      <td>04/15/17</td>\n",
       "      <td>1.000</td>\n",
       "      <td>5.00</td>\n",
       "      <td>13952</td>\n",
       "      <td>United Kingdom</td>\n",
       "      <td>0%</td>\n",
       "      <td>UPS ground 2nd day</td>\n",
       "      <td>1</td>\n",
       "      <td>4.999763</td>\n",
       "      <td>CENTRAL</td>\n",
       "      <td>PETER T</td>\n",
       "      <td>NaN</td>\n",
       "    </tr>\n",
       "    <tr>\n",
       "      <th>5</th>\n",
       "      <td>561047</td>\n",
       "      <td>16045</td>\n",
       "      <td>1.075</td>\n",
       "      <td>2,017</td>\n",
       "      <td>07/24/17</td>\n",
       "      <td>1.004</td>\n",
       "      <td>1.08</td>\n",
       "      <td>16948</td>\n",
       "      <td>United Kingdom</td>\n",
       "      <td>0%</td>\n",
       "      <td>UPS ground 2nd day</td>\n",
       "      <td>1.01</td>\n",
       "      <td>1.080605</td>\n",
       "      <td>WEST</td>\n",
       "      <td>JEFF Y</td>\n",
       "      <td>NaN</td>\n",
       "    </tr>\n",
       "    <tr>\n",
       "      <th>6</th>\n",
       "      <td>560259</td>\n",
       "      <td>16045</td>\n",
       "      <td>6.450</td>\n",
       "      <td>2,017</td>\n",
       "      <td>07/17/17</td>\n",
       "      <td>1.007</td>\n",
       "      <td>6.50</td>\n",
       "      <td>13654</td>\n",
       "      <td>United Kingdom</td>\n",
       "      <td>0%</td>\n",
       "      <td>UPS Next day Air</td>\n",
       "      <td>1.01</td>\n",
       "      <td>6.483628</td>\n",
       "      <td>CENTRAL</td>\n",
       "      <td>GAIL H</td>\n",
       "      <td>NaN</td>\n",
       "    </tr>\n",
       "    <tr>\n",
       "      <th>7</th>\n",
       "      <td>2558389</td>\n",
       "      <td>16045</td>\n",
       "      <td>46.956</td>\n",
       "      <td>2,018</td>\n",
       "      <td>07/09/18</td>\n",
       "      <td>1.001</td>\n",
       "      <td>47.00</td>\n",
       "      <td>14383</td>\n",
       "      <td>United Kingdom</td>\n",
       "      <td>0%</td>\n",
       "      <td>UPS Next day Air</td>\n",
       "      <td>1.01</td>\n",
       "      <td>47.200809</td>\n",
       "      <td>SOUTH</td>\n",
       "      <td>GRACE J</td>\n",
       "      <td>NaN</td>\n",
       "    </tr>\n",
       "    <tr>\n",
       "      <th>8</th>\n",
       "      <td>558389</td>\n",
       "      <td>16045</td>\n",
       "      <td>3.225</td>\n",
       "      <td>2,017</td>\n",
       "      <td>06/29/17</td>\n",
       "      <td>1.012</td>\n",
       "      <td>3.26</td>\n",
       "      <td>14383</td>\n",
       "      <td>United Kingdom</td>\n",
       "      <td>1%</td>\n",
       "      <td>UPS Next day Air</td>\n",
       "      <td>1.01</td>\n",
       "      <td>3.241814</td>\n",
       "      <td>SOUTH</td>\n",
       "      <td>GRACE J</td>\n",
       "      <td>NaN</td>\n",
       "    </tr>\n",
       "    <tr>\n",
       "      <th>9</th>\n",
       "      <td>C536757</td>\n",
       "      <td>84347</td>\n",
       "      <td>2.000</td>\n",
       "      <td>2,016</td>\n",
       "      <td>12/02/16</td>\n",
       "      <td>1.003</td>\n",
       "      <td>2.01</td>\n",
       "      <td>15838</td>\n",
       "      <td>United Kingdom</td>\n",
       "      <td>24%</td>\n",
       "      <td>UPS ground 2nd day</td>\n",
       "      <td>0.76</td>\n",
       "      <td>1.522598</td>\n",
       "      <td>NORTH</td>\n",
       "      <td>JOHN A</td>\n",
       "      <td>NaN</td>\n",
       "    </tr>\n",
       "  </tbody>\n",
       "</table>\n",
       "</div>"
      ],
      "text/plain": [
       "  InvoiceNo     StockCode  Quantity Shipped   Year Invoice Date  UnitPrice  \\\n",
       "0    568200          PADS             5.000  2,017     09/25/17      1.000   \n",
       "1    568375  BANK CHARGES             5.000  2,017     09/26/17      1.000   \n",
       "2    561226          PADS             5.000  2,017     07/26/17      1.000   \n",
       "3   2550193          PADS             7.080  2,018     06/08/18      1.000   \n",
       "4    550193          PADS             5.000  2,017     04/15/17      1.000   \n",
       "5    561047         16045             1.075  2,017     07/24/17      1.004   \n",
       "6    560259         16045             6.450  2,017     07/17/17      1.007   \n",
       "7   2558389         16045            46.956  2,018     07/09/18      1.001   \n",
       "8    558389         16045             3.225  2,017     06/29/17      1.012   \n",
       "9   C536757         84347             2.000  2,016     12/02/16      1.003   \n",
       "\n",
       "   Ext-Price  CustomerID         Country   GM%             Shipper   COST  \\\n",
       "0       5.00       16198  United Kingdom    0%      Delivery Truck      1   \n",
       "1       5.00       13405  United Kingdom  100%    UPS Next day Air   -      \n",
       "2       5.00       15618  United Kingdom    0%      Delivery Truck      1   \n",
       "3       7.08       13952  United Kingdom    0%  UPS ground 2nd day      1   \n",
       "4       5.00       13952  United Kingdom    0%  UPS ground 2nd day      1   \n",
       "5       1.08       16948  United Kingdom    0%  UPS ground 2nd day   1.01   \n",
       "6       6.50       13654  United Kingdom    0%    UPS Next day Air   1.01   \n",
       "7      47.00       14383  United Kingdom    0%    UPS Next day Air   1.01   \n",
       "8       3.26       14383  United Kingdom    1%    UPS Next day Air   1.01   \n",
       "9       2.01       15838  United Kingdom   24%  UPS ground 2nd day   0.76   \n",
       "\n",
       "    EXT COST   REGION  SALES P  Unnamed: 15  \n",
       "0   4.999763    SOUTH  GRACE J          NaN  \n",
       "1   0.000000     WEST   JEFF Y          NaN  \n",
       "2   4.999763    SOUTH  GRACE J          NaN  \n",
       "3   7.079664  CENTRAL  PETER T          NaN  \n",
       "4   4.999763  CENTRAL  PETER T          NaN  \n",
       "5   1.080605     WEST   JEFF Y          NaN  \n",
       "6   6.483628  CENTRAL   GAIL H          NaN  \n",
       "7  47.200809    SOUTH  GRACE J          NaN  \n",
       "8   3.241814    SOUTH  GRACE J          NaN  \n",
       "9   1.522598    NORTH   JOHN A          NaN  "
      ]
     },
     "execution_count": 5,
     "metadata": {},
     "output_type": "execute_result"
    },
    {
     "data": {
      "text/plain": [
       "Index(['InvoiceNo', 'StockCode', 'Quantity Shipped', 'Year', 'Invoice Date',\n",
       "       'UnitPrice', 'Ext-Price', 'CustomerID', 'Country', 'GM%', 'Shipper',\n",
       "       'COST', 'EXT COST', 'REGION', 'SALES P', 'Unnamed: 15'],\n",
       "      dtype='object')"
      ]
     },
     "execution_count": 5,
     "metadata": {},
     "output_type": "execute_result"
    }
   ],
   "source": [
    "SALES_DATA.info()\n",
    "SALES_DATA.head(10)\n",
    "SALES_DATA.columns\n",
    "\n",
    "# There is no missing value "
   ]
  },
  {
   "cell_type": "code",
   "execution_count": 6,
   "metadata": {},
   "outputs": [],
   "source": [
    "del SALES_DATA['Unnamed: 15']"
   ]
  },
  {
   "cell_type": "markdown",
   "metadata": {},
   "source": [
    "SALES_DATA['Profit']=SALES_DATA['Ext-Price']-SALES_DATA['EXT COST']"
   ]
  },
  {
   "cell_type": "code",
   "execution_count": 7,
   "metadata": {},
   "outputs": [
    {
     "name": "stdout",
     "output_type": "stream",
     "text": [
      "<class 'pandas.core.frame.DataFrame'>\n",
      "Int64Index: 566076 entries, 0 to 566308\n",
      "Data columns (total 15 columns):\n",
      "InvoiceNo           566076 non-null object\n",
      "StockCode           566076 non-null object\n",
      "Quantity Shipped    566076 non-null float64\n",
      "Year                566076 non-null object\n",
      "Invoice Date        566076 non-null object\n",
      "UnitPrice           566076 non-null float64\n",
      "Ext-Price           566076 non-null float64\n",
      "CustomerID          566076 non-null int64\n",
      "Country             566076 non-null object\n",
      "GM%                 566076 non-null object\n",
      "Shipper             566076 non-null object\n",
      "COST                566076 non-null object\n",
      "EXT COST            566076 non-null float64\n",
      "REGION              566076 non-null object\n",
      "SALES P             566076 non-null object\n",
      "dtypes: float64(4), int64(1), object(10)\n",
      "memory usage: 69.1+ MB\n"
     ]
    }
   ],
   "source": [
    "SALES_DATA=SALES_DATA[SALES_DATA['Invoice Date']!='2/29/2018']\n",
    "\n",
    "SALES_DATA.info()"
   ]
  },
  {
   "cell_type": "code",
   "execution_count": 8,
   "metadata": {},
   "outputs": [
    {
     "name": "stdout",
     "output_type": "stream",
     "text": [
      "The latest invoice date is: 2018-12-27 00:00:00\n",
      "The earliest invoice date is: 2016-12-01 00:00:00\n"
     ]
    }
   ],
   "source": [
    "SALES_DATA['Invoice Date']=pd.to_datetime(SALES_DATA['Invoice Date'])\n",
    "\n",
    "lat_date=SALES_DATA['Invoice Date'].max()\n",
    "print('The latest invoice date is:', lat_date)\n",
    "ear_date=SALES_DATA['Invoice Date'].min()\n",
    "print('The earliest invoice date is:', ear_date)"
   ]
  },
  {
   "cell_type": "code",
   "execution_count": 9,
   "metadata": {},
   "outputs": [
    {
     "name": "stdout",
     "output_type": "stream",
     "text": [
      "No of customers are: 4146\n"
     ]
    }
   ],
   "source": [
    "cust=SALES_DATA[['CustomerID']].drop_duplicates()\n",
    "print(\"No of customers are:\", len(cust))"
   ]
  },
  {
   "cell_type": "code",
   "execution_count": 10,
   "metadata": {},
   "outputs": [
    {
     "name": "stdout",
     "output_type": "stream",
     "text": [
      "No of countires are: 38\n"
     ]
    },
    {
     "data": {
      "text/plain": [
       "array(['United Kingdom', 'EIRE', 'Germany', 'France', 'Israel', 'Austria',\n",
       "       'Norway', 'Finland', 'Spain', 'Belgium', 'Switzerland', 'Portugal',\n",
       "       'Netherlands', 'Singapore', 'Japan', 'Sweden', 'Malta', 'Greece',\n",
       "       'Hong Kong', 'Unspecified', 'Cyprus', 'Canada',\n",
       "       'United Arab Emirates', 'Australia', 'Italy', 'Channel Islands',\n",
       "       'Denmark', 'USA', 'Poland', 'Iceland', 'Czech Republic', 'RSA',\n",
       "       'European Community', 'Lebanon', 'Saudi Arabia', 'Lithuania',\n",
       "       'Bahrain', 'Brazil'], dtype=object)"
      ]
     },
     "execution_count": 10,
     "metadata": {},
     "output_type": "execute_result"
    }
   ],
   "source": [
    "coun=SALES_DATA['Country'].drop_duplicates()\n",
    "print(\"No of countires are:\", len(coun))\n",
    "\n",
    "SALES_DATA['Country'].unique()"
   ]
  },
  {
   "cell_type": "code",
   "execution_count": 11,
   "metadata": {},
   "outputs": [],
   "source": [
    "# Checking country wise customer distribution:"
   ]
  },
  {
   "cell_type": "code",
   "execution_count": 12,
   "metadata": {},
   "outputs": [
    {
     "data": {
      "text/html": [
       "<div>\n",
       "<style scoped>\n",
       "    .dataframe tbody tr th:only-of-type {\n",
       "        vertical-align: middle;\n",
       "    }\n",
       "\n",
       "    .dataframe tbody tr th {\n",
       "        vertical-align: top;\n",
       "    }\n",
       "\n",
       "    .dataframe thead th {\n",
       "        text-align: right;\n",
       "    }\n",
       "</style>\n",
       "<table border=\"1\" class=\"dataframe\">\n",
       "  <thead>\n",
       "    <tr style=\"text-align: right;\">\n",
       "      <th></th>\n",
       "      <th>Country</th>\n",
       "      <th>CustomerID</th>\n",
       "    </tr>\n",
       "  </thead>\n",
       "  <tbody>\n",
       "    <tr>\n",
       "      <th>36</th>\n",
       "      <td>United Kingdom</td>\n",
       "      <td>3753</td>\n",
       "    </tr>\n",
       "    <tr>\n",
       "      <th>14</th>\n",
       "      <td>Germany</td>\n",
       "      <td>91</td>\n",
       "    </tr>\n",
       "    <tr>\n",
       "      <th>13</th>\n",
       "      <td>France</td>\n",
       "      <td>88</td>\n",
       "    </tr>\n",
       "    <tr>\n",
       "      <th>10</th>\n",
       "      <td>EIRE</td>\n",
       "      <td>31</td>\n",
       "    </tr>\n",
       "    <tr>\n",
       "      <th>31</th>\n",
       "      <td>Spain</td>\n",
       "      <td>30</td>\n",
       "    </tr>\n",
       "    <tr>\n",
       "      <th>3</th>\n",
       "      <td>Belgium</td>\n",
       "      <td>24</td>\n",
       "    </tr>\n",
       "    <tr>\n",
       "      <th>33</th>\n",
       "      <td>Switzerland</td>\n",
       "      <td>22</td>\n",
       "    </tr>\n",
       "    <tr>\n",
       "      <th>27</th>\n",
       "      <td>Portugal</td>\n",
       "      <td>18</td>\n",
       "    </tr>\n",
       "    <tr>\n",
       "      <th>19</th>\n",
       "      <td>Italy</td>\n",
       "      <td>13</td>\n",
       "    </tr>\n",
       "    <tr>\n",
       "      <th>12</th>\n",
       "      <td>Finland</td>\n",
       "      <td>11</td>\n",
       "    </tr>\n",
       "    <tr>\n",
       "      <th>1</th>\n",
       "      <td>Austria</td>\n",
       "      <td>10</td>\n",
       "    </tr>\n",
       "    <tr>\n",
       "      <th>25</th>\n",
       "      <td>Norway</td>\n",
       "      <td>10</td>\n",
       "    </tr>\n",
       "    <tr>\n",
       "      <th>6</th>\n",
       "      <td>Channel Islands</td>\n",
       "      <td>9</td>\n",
       "    </tr>\n",
       "    <tr>\n",
       "      <th>9</th>\n",
       "      <td>Denmark</td>\n",
       "      <td>9</td>\n",
       "    </tr>\n",
       "    <tr>\n",
       "      <th>24</th>\n",
       "      <td>Netherlands</td>\n",
       "      <td>8</td>\n",
       "    </tr>\n",
       "    <tr>\n",
       "      <th>20</th>\n",
       "      <td>Japan</td>\n",
       "      <td>8</td>\n",
       "    </tr>\n",
       "    <tr>\n",
       "      <th>0</th>\n",
       "      <td>Australia</td>\n",
       "      <td>8</td>\n",
       "    </tr>\n",
       "    <tr>\n",
       "      <th>7</th>\n",
       "      <td>Cyprus</td>\n",
       "      <td>7</td>\n",
       "    </tr>\n",
       "    <tr>\n",
       "      <th>16</th>\n",
       "      <td>Hong Kong</td>\n",
       "      <td>7</td>\n",
       "    </tr>\n",
       "    <tr>\n",
       "      <th>37</th>\n",
       "      <td>Unspecified</td>\n",
       "      <td>7</td>\n",
       "    </tr>\n",
       "    <tr>\n",
       "      <th>26</th>\n",
       "      <td>Poland</td>\n",
       "      <td>6</td>\n",
       "    </tr>\n",
       "    <tr>\n",
       "      <th>18</th>\n",
       "      <td>Israel</td>\n",
       "      <td>6</td>\n",
       "    </tr>\n",
       "    <tr>\n",
       "      <th>32</th>\n",
       "      <td>Sweden</td>\n",
       "      <td>6</td>\n",
       "    </tr>\n",
       "    <tr>\n",
       "      <th>2</th>\n",
       "      <td>Bahrain</td>\n",
       "      <td>4</td>\n",
       "    </tr>\n",
       "    <tr>\n",
       "      <th>34</th>\n",
       "      <td>USA</td>\n",
       "      <td>4</td>\n",
       "    </tr>\n",
       "    <tr>\n",
       "      <th>15</th>\n",
       "      <td>Greece</td>\n",
       "      <td>3</td>\n",
       "    </tr>\n",
       "    <tr>\n",
       "      <th>5</th>\n",
       "      <td>Canada</td>\n",
       "      <td>3</td>\n",
       "    </tr>\n",
       "    <tr>\n",
       "      <th>23</th>\n",
       "      <td>Malta</td>\n",
       "      <td>2</td>\n",
       "    </tr>\n",
       "    <tr>\n",
       "      <th>35</th>\n",
       "      <td>United Arab Emirates</td>\n",
       "      <td>2</td>\n",
       "    </tr>\n",
       "    <tr>\n",
       "      <th>4</th>\n",
       "      <td>Brazil</td>\n",
       "      <td>1</td>\n",
       "    </tr>\n",
       "    <tr>\n",
       "      <th>29</th>\n",
       "      <td>Saudi Arabia</td>\n",
       "      <td>1</td>\n",
       "    </tr>\n",
       "    <tr>\n",
       "      <th>30</th>\n",
       "      <td>Singapore</td>\n",
       "      <td>1</td>\n",
       "    </tr>\n",
       "    <tr>\n",
       "      <th>21</th>\n",
       "      <td>Lebanon</td>\n",
       "      <td>1</td>\n",
       "    </tr>\n",
       "    <tr>\n",
       "      <th>28</th>\n",
       "      <td>RSA</td>\n",
       "      <td>1</td>\n",
       "    </tr>\n",
       "    <tr>\n",
       "      <th>8</th>\n",
       "      <td>Czech Republic</td>\n",
       "      <td>1</td>\n",
       "    </tr>\n",
       "    <tr>\n",
       "      <th>11</th>\n",
       "      <td>European Community</td>\n",
       "      <td>1</td>\n",
       "    </tr>\n",
       "    <tr>\n",
       "      <th>22</th>\n",
       "      <td>Lithuania</td>\n",
       "      <td>1</td>\n",
       "    </tr>\n",
       "    <tr>\n",
       "      <th>17</th>\n",
       "      <td>Iceland</td>\n",
       "      <td>1</td>\n",
       "    </tr>\n",
       "  </tbody>\n",
       "</table>\n",
       "</div>"
      ],
      "text/plain": [
       "                 Country  CustomerID\n",
       "36        United Kingdom        3753\n",
       "14               Germany          91\n",
       "13                France          88\n",
       "10                  EIRE          31\n",
       "31                 Spain          30\n",
       "3                Belgium          24\n",
       "33           Switzerland          22\n",
       "27              Portugal          18\n",
       "19                 Italy          13\n",
       "12               Finland          11\n",
       "1                Austria          10\n",
       "25                Norway          10\n",
       "6        Channel Islands           9\n",
       "9                Denmark           9\n",
       "24           Netherlands           8\n",
       "20                 Japan           8\n",
       "0              Australia           8\n",
       "7                 Cyprus           7\n",
       "16             Hong Kong           7\n",
       "37           Unspecified           7\n",
       "26                Poland           6\n",
       "18                Israel           6\n",
       "32                Sweden           6\n",
       "2                Bahrain           4\n",
       "34                   USA           4\n",
       "15                Greece           3\n",
       "5                 Canada           3\n",
       "23                 Malta           2\n",
       "35  United Arab Emirates           2\n",
       "4                 Brazil           1\n",
       "29          Saudi Arabia           1\n",
       "30             Singapore           1\n",
       "21               Lebanon           1\n",
       "28                   RSA           1\n",
       "8         Czech Republic           1\n",
       "11    European Community           1\n",
       "22             Lithuania           1\n",
       "17               Iceland           1"
      ]
     },
     "execution_count": 12,
     "metadata": {},
     "output_type": "execute_result"
    }
   ],
   "source": [
    "cust_country=SALES_DATA[['Country','CustomerID']].drop_duplicates()\n",
    "\n",
    "cust_country_count=cust_country.groupby(['Country'])['CustomerID'].aggregate('count').reset_index().sort_values('CustomerID',ascending=False)\n",
    "cust_country_count"
   ]
  },
  {
   "cell_type": "code",
   "execution_count": 13,
   "metadata": {},
   "outputs": [
    {
     "data": {
      "text/plain": [
       "<Figure size 864x576 with 0 Axes>"
      ]
     },
     "execution_count": 13,
     "metadata": {},
     "output_type": "execute_result"
    },
    {
     "data": {
      "text/plain": [
       "<matplotlib.axes._subplots.AxesSubplot at 0x1f206e29668>"
      ]
     },
     "execution_count": 13,
     "metadata": {},
     "output_type": "execute_result"
    },
    {
     "data": {
      "text/plain": [
       "(array([ 0,  1,  2,  3,  4,  5,  6,  7,  8,  9, 10, 11, 12, 13, 14, 15, 16,\n",
       "        17, 18, 19, 20, 21, 22, 23, 24, 25, 26, 27, 28, 29, 30, 31, 32, 33,\n",
       "        34, 35, 36, 37]), <a list of 38 Text xticklabel objects>)"
      ]
     },
     "execution_count": 13,
     "metadata": {},
     "output_type": "execute_result"
    },
    {
     "data": {
      "image/png": "[encoded data removed]",
      "text/plain": [
       "<Figure size 864x576 with 1 Axes>"
      ]
     },
     "metadata": {},
     "output_type": "display_data"
    }
   ],
   "source": [
    "country=list(cust_country_count['Country'])\n",
    "cust_id=list(cust_country_count['CustomerID'])\n",
    "plt.figure(figsize=(12,8))\n",
    "sns.barplot(country, cust_id, alpha=0.8)\n",
    "plt.xticks(rotation='85')\n",
    "\n",
    "# It can be seen from the graph that around 90% of the customers exist in United Kingdom only followed by Germany and France. "
   ]
  },
  {
   "cell_type": "code",
   "execution_count": 14,
   "metadata": {},
   "outputs": [],
   "source": [
    "sales_data_UK=SALES_DATA.loc[SALES_DATA['Country']=='United Kingdom']"
   ]
  },
  {
   "cell_type": "code",
   "execution_count": 15,
   "metadata": {},
   "outputs": [],
   "source": [
    "columns=['InvoiceNo', 'StockCode','Invoice Date', 'CustomerID', 'Country', 'Shipper', 'REGION', 'SALES P']"
   ]
  },
  {
   "cell_type": "code",
   "execution_count": 16,
   "metadata": {},
   "outputs": [
    {
     "name": "stdout",
     "output_type": "stream",
     "text": [
      "InvoiceNo :  22742\n",
      "StockCode :  3894\n",
      "Invoice Date :  656\n",
      "CustomerID :  3753\n",
      "Country :  1\n",
      "Shipper :  4\n",
      "REGION :  4\n",
      "SALES P :  6\n"
     ]
    }
   ],
   "source": [
    "def unique_counts(df):\n",
    "    for i in columns:\n",
    "        counts=df[i].nunique()\n",
    "        print(i, \": \", counts)\n",
    "unique_counts(sales_data_UK)"
   ]
  },
  {
   "cell_type": "code",
   "execution_count": 17,
   "metadata": {},
   "outputs": [],
   "source": [
    "# RFM Analysis"
   ]
  },
  {
   "cell_type": "code",
   "execution_count": 18,
   "metadata": {},
   "outputs": [],
   "source": [
    "import datetime as dt\n",
    "NOW=dt.datetime(2018,12,27)"
   ]
  },
  {
   "cell_type": "code",
   "execution_count": 19,
   "metadata": {},
   "outputs": [
    {
     "data": {
      "text/html": [
       "<div>\n",
       "<style scoped>\n",
       "    .dataframe tbody tr th:only-of-type {\n",
       "        vertical-align: middle;\n",
       "    }\n",
       "\n",
       "    .dataframe tbody tr th {\n",
       "        vertical-align: top;\n",
       "    }\n",
       "\n",
       "    .dataframe thead th {\n",
       "        text-align: right;\n",
       "    }\n",
       "</style>\n",
       "<table border=\"1\" class=\"dataframe\">\n",
       "  <thead>\n",
       "    <tr style=\"text-align: right;\">\n",
       "      <th></th>\n",
       "      <th>CustomerID</th>\n",
       "      <th>Recency</th>\n",
       "      <th>Frequency</th>\n",
       "      <th>Monetary_value</th>\n",
       "    </tr>\n",
       "  </thead>\n",
       "  <tbody>\n",
       "    <tr>\n",
       "      <th>0</th>\n",
       "      <td>12346</td>\n",
       "      <td>232</td>\n",
       "      <td>2</td>\n",
       "      <td>750867.97</td>\n",
       "    </tr>\n",
       "    <tr>\n",
       "      <th>1</th>\n",
       "      <td>12347</td>\n",
       "      <td>21</td>\n",
       "      <td>221</td>\n",
       "      <td>22725.40</td>\n",
       "    </tr>\n",
       "    <tr>\n",
       "      <th>2</th>\n",
       "      <td>12348</td>\n",
       "      <td>12</td>\n",
       "      <td>50</td>\n",
       "      <td>20105.77</td>\n",
       "    </tr>\n",
       "    <tr>\n",
       "      <th>3</th>\n",
       "      <td>12349</td>\n",
       "      <td>401</td>\n",
       "      <td>69</td>\n",
       "      <td>982.19</td>\n",
       "    </tr>\n",
       "    <tr>\n",
       "      <th>4</th>\n",
       "      <td>12350</td>\n",
       "      <td>148</td>\n",
       "      <td>33</td>\n",
       "      <td>1000.91</td>\n",
       "    </tr>\n",
       "    <tr>\n",
       "      <th>5</th>\n",
       "      <td>12352</td>\n",
       "      <td>100</td>\n",
       "      <td>73</td>\n",
       "      <td>1861.92</td>\n",
       "    </tr>\n",
       "    <tr>\n",
       "      <th>6</th>\n",
       "      <td>12353</td>\n",
       "      <td>82</td>\n",
       "      <td>8</td>\n",
       "      <td>371.31</td>\n",
       "    </tr>\n",
       "    <tr>\n",
       "      <th>7</th>\n",
       "      <td>12354</td>\n",
       "      <td>69</td>\n",
       "      <td>105</td>\n",
       "      <td>18197.91</td>\n",
       "    </tr>\n",
       "    <tr>\n",
       "      <th>8</th>\n",
       "      <td>12355</td>\n",
       "      <td>51</td>\n",
       "      <td>12</td>\n",
       "      <td>1793.56</td>\n",
       "    </tr>\n",
       "    <tr>\n",
       "      <th>9</th>\n",
       "      <td>12356</td>\n",
       "      <td>92</td>\n",
       "      <td>50</td>\n",
       "      <td>3257.31</td>\n",
       "    </tr>\n",
       "  </tbody>\n",
       "</table>\n",
       "</div>"
      ],
      "text/plain": [
       "   CustomerID  Recency  Frequency  Monetary_value\n",
       "0       12346      232          2       750867.97\n",
       "1       12347       21        221        22725.40\n",
       "2       12348       12         50        20105.77\n",
       "3       12349      401         69          982.19\n",
       "4       12350      148         33         1000.91\n",
       "5       12352      100         73         1861.92\n",
       "6       12353       82          8          371.31\n",
       "7       12354       69        105        18197.91\n",
       "8       12355       51         12         1793.56\n",
       "9       12356       92         50         3257.31"
      ]
     },
     "execution_count": 19,
     "metadata": {},
     "output_type": "execute_result"
    }
   ],
   "source": [
    "rfmTable=SALES_DATA.groupby('CustomerID',as_index=False).agg({'Invoice Date': lambda x: (NOW - x.max()).days, 'InvoiceNo': lambda x: len(x), 'Ext-Price': lambda x: x.sum()})\n",
    "rfmTable['Invoice Date']=rfmTable['Invoice Date'].astype(int)\n",
    "rfmTable.rename(columns={'Invoice Date': 'Recency', \n",
    "                         'InvoiceNo': 'Frequency', \n",
    "                         'Ext-Price': 'Monetary_value'}, inplace=True)\n",
    "rfmTable.head(10)"
   ]
  },
  {
   "cell_type": "code",
   "execution_count": 20,
   "metadata": {},
   "outputs": [
    {
     "data": {
      "text/plain": [
       "{'CustomerID': {0.2: 13504.0, 0.4: 14684.0, 0.6: 15865.0, 0.8: 17081.0},\n",
       " 'Recency': {0.2: 19.0, 0.4: 78.0, 0.6: 180.0, 0.8: 427.0},\n",
       " 'Frequency': {0.2: 16.0, 0.4: 33.0, 0.6: 66.0, 0.8: 146.0},\n",
       " 'Monetary_value': {0.2: 450.64, 0.4: 1242.88, 0.6: 3181.35, 0.8: 9145.48}}"
      ]
     },
     "execution_count": 20,
     "metadata": {},
     "output_type": "execute_result"
    }
   ],
   "source": [
    "quantiles=rfmTable.quantile([0.2,0.4,0.6,0.8]).to_dict()\n",
    "quantiles"
   ]
  },
  {
   "cell_type": "code",
   "execution_count": 21,
   "metadata": {},
   "outputs": [],
   "source": [
    "def r_score(x,p,d):\n",
    "    if x <= d[p][0.2]:\n",
    "        return 5\n",
    "    elif x <= d[p][0.4]:\n",
    "        return 4\n",
    "    elif x <= d[p][.6]:\n",
    "        return 3\n",
    "    elif x <= d[p][.8]:\n",
    "        return 2\n",
    "    else:\n",
    "        return 1"
   ]
  },
  {
   "cell_type": "code",
   "execution_count": 22,
   "metadata": {},
   "outputs": [],
   "source": [
    "def fm_score(x,p,d):\n",
    "    if x <= d[p][0.2]:\n",
    "        return 1\n",
    "    elif x <= d[p][0.4]:\n",
    "        return 2\n",
    "    elif x <= d[p][0.6]: \n",
    "        return 3\n",
    "    elif x <= d[p][0.8]: \n",
    "        return 4\n",
    "    else:\n",
    "        return 5"
   ]
  },
  {
   "cell_type": "code",
   "execution_count": 23,
   "metadata": {},
   "outputs": [],
   "source": [
    "rfmTable['Recency_Flag']=rfmTable['Recency'].apply(r_score, args=('Recency',quantiles,))\n",
    "rfmTable['Freq_Flag']=rfmTable['Frequency'].apply(fm_score, args=('Frequency',quantiles,))\n",
    "rfmTable['Monetory_Flag']=rfmTable['Monetary_value'].apply(fm_score, args=('Monetary_value',quantiles,))"
   ]
  },
  {
   "cell_type": "code",
   "execution_count": 24,
   "metadata": {},
   "outputs": [
    {
     "data": {
      "text/html": [
       "<div>\n",
       "<style scoped>\n",
       "    .dataframe tbody tr th:only-of-type {\n",
       "        vertical-align: middle;\n",
       "    }\n",
       "\n",
       "    .dataframe tbody tr th {\n",
       "        vertical-align: top;\n",
       "    }\n",
       "\n",
       "    .dataframe thead th {\n",
       "        text-align: right;\n",
       "    }\n",
       "</style>\n",
       "<table border=\"1\" class=\"dataframe\">\n",
       "  <thead>\n",
       "    <tr style=\"text-align: right;\">\n",
       "      <th></th>\n",
       "      <th>CustomerID</th>\n",
       "      <th>Recency</th>\n",
       "      <th>Frequency</th>\n",
       "      <th>Monetary_value</th>\n",
       "      <th>Recency_Flag</th>\n",
       "      <th>Freq_Flag</th>\n",
       "      <th>Monetory_Flag</th>\n",
       "      <th>RFMScore</th>\n",
       "    </tr>\n",
       "  </thead>\n",
       "  <tbody>\n",
       "    <tr>\n",
       "      <th>0</th>\n",
       "      <td>12346</td>\n",
       "      <td>232</td>\n",
       "      <td>2</td>\n",
       "      <td>750867.97</td>\n",
       "      <td>2</td>\n",
       "      <td>1</td>\n",
       "      <td>5</td>\n",
       "      <td>215</td>\n",
       "    </tr>\n",
       "    <tr>\n",
       "      <th>1</th>\n",
       "      <td>12347</td>\n",
       "      <td>21</td>\n",
       "      <td>221</td>\n",
       "      <td>22725.40</td>\n",
       "      <td>4</td>\n",
       "      <td>5</td>\n",
       "      <td>5</td>\n",
       "      <td>455</td>\n",
       "    </tr>\n",
       "    <tr>\n",
       "      <th>2</th>\n",
       "      <td>12348</td>\n",
       "      <td>12</td>\n",
       "      <td>50</td>\n",
       "      <td>20105.77</td>\n",
       "      <td>5</td>\n",
       "      <td>3</td>\n",
       "      <td>5</td>\n",
       "      <td>535</td>\n",
       "    </tr>\n",
       "    <tr>\n",
       "      <th>3</th>\n",
       "      <td>12349</td>\n",
       "      <td>401</td>\n",
       "      <td>69</td>\n",
       "      <td>982.19</td>\n",
       "      <td>2</td>\n",
       "      <td>4</td>\n",
       "      <td>2</td>\n",
       "      <td>242</td>\n",
       "    </tr>\n",
       "    <tr>\n",
       "      <th>4</th>\n",
       "      <td>12350</td>\n",
       "      <td>148</td>\n",
       "      <td>33</td>\n",
       "      <td>1000.91</td>\n",
       "      <td>3</td>\n",
       "      <td>2</td>\n",
       "      <td>2</td>\n",
       "      <td>322</td>\n",
       "    </tr>\n",
       "    <tr>\n",
       "      <th>5</th>\n",
       "      <td>12352</td>\n",
       "      <td>100</td>\n",
       "      <td>73</td>\n",
       "      <td>1861.92</td>\n",
       "      <td>3</td>\n",
       "      <td>4</td>\n",
       "      <td>3</td>\n",
       "      <td>343</td>\n",
       "    </tr>\n",
       "    <tr>\n",
       "      <th>6</th>\n",
       "      <td>12353</td>\n",
       "      <td>82</td>\n",
       "      <td>8</td>\n",
       "      <td>371.31</td>\n",
       "      <td>3</td>\n",
       "      <td>1</td>\n",
       "      <td>1</td>\n",
       "      <td>311</td>\n",
       "    </tr>\n",
       "    <tr>\n",
       "      <th>7</th>\n",
       "      <td>12354</td>\n",
       "      <td>69</td>\n",
       "      <td>105</td>\n",
       "      <td>18197.91</td>\n",
       "      <td>4</td>\n",
       "      <td>4</td>\n",
       "      <td>5</td>\n",
       "      <td>445</td>\n",
       "    </tr>\n",
       "    <tr>\n",
       "      <th>8</th>\n",
       "      <td>12355</td>\n",
       "      <td>51</td>\n",
       "      <td>12</td>\n",
       "      <td>1793.56</td>\n",
       "      <td>4</td>\n",
       "      <td>1</td>\n",
       "      <td>3</td>\n",
       "      <td>413</td>\n",
       "    </tr>\n",
       "    <tr>\n",
       "      <th>9</th>\n",
       "      <td>12356</td>\n",
       "      <td>92</td>\n",
       "      <td>50</td>\n",
       "      <td>3257.31</td>\n",
       "      <td>3</td>\n",
       "      <td>3</td>\n",
       "      <td>4</td>\n",
       "      <td>334</td>\n",
       "    </tr>\n",
       "  </tbody>\n",
       "</table>\n",
       "</div>"
      ],
      "text/plain": [
       "   CustomerID  Recency  Frequency  Monetary_value  Recency_Flag  Freq_Flag  \\\n",
       "0       12346      232          2       750867.97             2          1   \n",
       "1       12347       21        221        22725.40             4          5   \n",
       "2       12348       12         50        20105.77             5          3   \n",
       "3       12349      401         69          982.19             2          4   \n",
       "4       12350      148         33         1000.91             3          2   \n",
       "5       12352      100         73         1861.92             3          4   \n",
       "6       12353       82          8          371.31             3          1   \n",
       "7       12354       69        105        18197.91             4          4   \n",
       "8       12355       51         12         1793.56             4          1   \n",
       "9       12356       92         50         3257.31             3          3   \n",
       "\n",
       "   Monetory_Flag RFMScore  \n",
       "0              5      215  \n",
       "1              5      455  \n",
       "2              5      535  \n",
       "3              2      242  \n",
       "4              2      322  \n",
       "5              3      343  \n",
       "6              1      311  \n",
       "7              5      445  \n",
       "8              3      413  \n",
       "9              4      334  "
      ]
     },
     "execution_count": 24,
     "metadata": {},
     "output_type": "execute_result"
    }
   ],
   "source": [
    "rfmTable['RFMScore']=rfmTable['Recency_Flag'].map(str)+rfmTable['Freq_Flag'].map(str)+rfmTable['Monetory_Flag'].map(str)\n",
    "rfmTable.head(10)"
   ]
  },
  {
   "cell_type": "code",
   "execution_count": 25,
   "metadata": {},
   "outputs": [
    {
     "data": {
      "text/html": [
       "<div>\n",
       "<style scoped>\n",
       "    .dataframe tbody tr th:only-of-type {\n",
       "        vertical-align: middle;\n",
       "    }\n",
       "\n",
       "    .dataframe tbody tr th {\n",
       "        vertical-align: top;\n",
       "    }\n",
       "\n",
       "    .dataframe thead th {\n",
       "        text-align: right;\n",
       "    }\n",
       "</style>\n",
       "<table border=\"1\" class=\"dataframe\">\n",
       "  <thead>\n",
       "    <tr style=\"text-align: right;\">\n",
       "      <th></th>\n",
       "      <th>CustomerID</th>\n",
       "      <th>Recency</th>\n",
       "      <th>Frequency</th>\n",
       "      <th>Monetary_value</th>\n",
       "      <th>Recency_Flag</th>\n",
       "      <th>Freq_Flag</th>\n",
       "      <th>Monetory_Flag</th>\n",
       "      <th>RFMScore</th>\n",
       "    </tr>\n",
       "  </thead>\n",
       "  <tbody>\n",
       "    <tr>\n",
       "      <th>1631</th>\n",
       "      <td>14646</td>\n",
       "      <td>5</td>\n",
       "      <td>2471</td>\n",
       "      <td>992688.48</td>\n",
       "      <td>5</td>\n",
       "      <td>5</td>\n",
       "      <td>5</td>\n",
       "      <td>555</td>\n",
       "    </tr>\n",
       "    <tr>\n",
       "      <th>1812</th>\n",
       "      <td>14911</td>\n",
       "      <td>5</td>\n",
       "      <td>5992</td>\n",
       "      <td>588004.51</td>\n",
       "      <td>5</td>\n",
       "      <td>5</td>\n",
       "      <td>5</td>\n",
       "      <td>555</td>\n",
       "    </tr>\n",
       "    <tr>\n",
       "      <th>51</th>\n",
       "      <td>12415</td>\n",
       "      <td>14</td>\n",
       "      <td>829</td>\n",
       "      <td>526458.16</td>\n",
       "      <td>5</td>\n",
       "      <td>5</td>\n",
       "      <td>5</td>\n",
       "      <td>555</td>\n",
       "    </tr>\n",
       "    <tr>\n",
       "      <th>2713</th>\n",
       "      <td>16203</td>\n",
       "      <td>16</td>\n",
       "      <td>731</td>\n",
       "      <td>488965.72</td>\n",
       "      <td>5</td>\n",
       "      <td>5</td>\n",
       "      <td>5</td>\n",
       "      <td>555</td>\n",
       "    </tr>\n",
       "    <tr>\n",
       "      <th>2594</th>\n",
       "      <td>16029</td>\n",
       "      <td>2</td>\n",
       "      <td>2072</td>\n",
       "      <td>481705.99</td>\n",
       "      <td>5</td>\n",
       "      <td>5</td>\n",
       "      <td>5</td>\n",
       "      <td>555</td>\n",
       "    </tr>\n",
       "    <tr>\n",
       "      <th>1986</th>\n",
       "      <td>15159</td>\n",
       "      <td>13</td>\n",
       "      <td>844</td>\n",
       "      <td>470630.19</td>\n",
       "      <td>5</td>\n",
       "      <td>5</td>\n",
       "      <td>5</td>\n",
       "      <td>555</td>\n",
       "    </tr>\n",
       "    <tr>\n",
       "      <th>4013</th>\n",
       "      <td>18102</td>\n",
       "      <td>19</td>\n",
       "      <td>452</td>\n",
       "      <td>450669.35</td>\n",
       "      <td>5</td>\n",
       "      <td>5</td>\n",
       "      <td>5</td>\n",
       "      <td>555</td>\n",
       "    </tr>\n",
       "    <tr>\n",
       "      <th>3835</th>\n",
       "      <td>17841</td>\n",
       "      <td>2</td>\n",
       "      <td>8854</td>\n",
       "      <td>391481.22</td>\n",
       "      <td>5</td>\n",
       "      <td>5</td>\n",
       "      <td>5</td>\n",
       "      <td>555</td>\n",
       "    </tr>\n",
       "    <tr>\n",
       "      <th>1278</th>\n",
       "      <td>14156</td>\n",
       "      <td>2</td>\n",
       "      <td>1381</td>\n",
       "      <td>319784.35</td>\n",
       "      <td>5</td>\n",
       "      <td>5</td>\n",
       "      <td>5</td>\n",
       "      <td>555</td>\n",
       "    </tr>\n",
       "    <tr>\n",
       "      <th>3603</th>\n",
       "      <td>17511</td>\n",
       "      <td>13</td>\n",
       "      <td>1211</td>\n",
       "      <td>303783.31</td>\n",
       "      <td>5</td>\n",
       "      <td>5</td>\n",
       "      <td>5</td>\n",
       "      <td>555</td>\n",
       "    </tr>\n",
       "  </tbody>\n",
       "</table>\n",
       "</div>"
      ],
      "text/plain": [
       "      CustomerID  Recency  Frequency  Monetary_value  Recency_Flag  Freq_Flag  \\\n",
       "1631       14646        5       2471       992688.48             5          5   \n",
       "1812       14911        5       5992       588004.51             5          5   \n",
       "51         12415       14        829       526458.16             5          5   \n",
       "2713       16203       16        731       488965.72             5          5   \n",
       "2594       16029        2       2072       481705.99             5          5   \n",
       "1986       15159       13        844       470630.19             5          5   \n",
       "4013       18102       19        452       450669.35             5          5   \n",
       "3835       17841        2       8854       391481.22             5          5   \n",
       "1278       14156        2       1381       319784.35             5          5   \n",
       "3603       17511       13       1211       303783.31             5          5   \n",
       "\n",
       "      Monetory_Flag RFMScore  \n",
       "1631              5      555  \n",
       "1812              5      555  \n",
       "51                5      555  \n",
       "2713              5      555  \n",
       "2594              5      555  \n",
       "1986              5      555  \n",
       "4013              5      555  \n",
       "3835              5      555  \n",
       "1278              5      555  \n",
       "3603              5      555  "
      ]
     },
     "execution_count": 25,
     "metadata": {},
     "output_type": "execute_result"
    }
   ],
   "source": [
    "# The top 10 customers of the company\n",
    "rfmTable[rfmTable['RFMScore']=='555'].sort_values('Monetary_value',ascending=False).head(10)"
   ]
  },
  {
   "cell_type": "code",
   "execution_count": 26,
   "metadata": {},
   "outputs": [],
   "source": [
    "# Recency"
   ]
  },
  {
   "cell_type": "code",
   "execution_count": 27,
   "metadata": {},
   "outputs": [
    {
     "data": {
      "text/plain": [
       "5    867\n",
       "3    835\n",
       "2    833\n",
       "1    818\n",
       "4    793\n",
       "Name: Recency_Flag, dtype: int64"
      ]
     },
     "execution_count": 27,
     "metadata": {},
     "output_type": "execute_result"
    }
   ],
   "source": [
    "rfmTable['Recency_Flag'].value_counts()"
   ]
  },
  {
   "cell_type": "code",
   "execution_count": 28,
   "metadata": {},
   "outputs": [
    {
     "data": {
      "text/plain": [
       "<Figure size 864x576 with 0 Axes>"
      ]
     },
     "execution_count": 28,
     "metadata": {},
     "output_type": "execute_result"
    },
    {
     "data": {
      "text/plain": [
       "<matplotlib.axes._subplots.AxesSubplot at 0x1f207965a90>"
      ]
     },
     "execution_count": 28,
     "metadata": {},
     "output_type": "execute_result"
    },
    {
     "data": {
      "text/plain": [
       "Text(0,0.5,'Count')"
      ]
     },
     "execution_count": 28,
     "metadata": {},
     "output_type": "execute_result"
    },
    {
     "data": {
      "text/plain": [
       "Text(0.5,0,'Recency_Flag')"
      ]
     },
     "execution_count": 28,
     "metadata": {},
     "output_type": "execute_result"
    },
    {
     "data": {
      "text/plain": [
       "Text(0.5,1,'Frequency of Recency_Flag')"
      ]
     },
     "execution_count": 28,
     "metadata": {},
     "output_type": "execute_result"
    },
    {
     "data": {
      "image/png": "[encoded data removed]",
      "text/plain": [
       "<Figure size 864x576 with 1 Axes>"
      ]
     },
     "metadata": {},
     "output_type": "display_data"
    }
   ],
   "source": [
    "plt.figure(figsize=(12,8))\n",
    "sns.countplot(x='Recency_Flag', data=rfmTable)\n",
    "plt.ylabel('Count', fontsize=12)\n",
    "plt.xlabel('Recency_Flag', fontsize=12)\n",
    "plt.title('Frequency of Recency_Flag', fontsize=15)"
   ]
  },
  {
   "cell_type": "code",
   "execution_count": 29,
   "metadata": {},
   "outputs": [],
   "source": [
    "# Frequency"
   ]
  },
  {
   "cell_type": "code",
   "execution_count": 30,
   "metadata": {},
   "outputs": [
    {
     "data": {
      "text/plain": [
       "1    891\n",
       "3    833\n",
       "5    827\n",
       "4    822\n",
       "2    773\n",
       "Name: Freq_Flag, dtype: int64"
      ]
     },
     "execution_count": 30,
     "metadata": {},
     "output_type": "execute_result"
    }
   ],
   "source": [
    "rfmTable['Freq_Flag'].value_counts()"
   ]
  },
  {
   "cell_type": "code",
   "execution_count": 31,
   "metadata": {},
   "outputs": [
    {
     "data": {
      "text/plain": [
       "<Figure size 864x576 with 0 Axes>"
      ]
     },
     "execution_count": 31,
     "metadata": {},
     "output_type": "execute_result"
    },
    {
     "data": {
      "text/plain": [
       "<matplotlib.axes._subplots.AxesSubplot at 0x1f207d78898>"
      ]
     },
     "execution_count": 31,
     "metadata": {},
     "output_type": "execute_result"
    },
    {
     "data": {
      "text/plain": [
       "Text(0,0.5,'Count')"
      ]
     },
     "execution_count": 31,
     "metadata": {},
     "output_type": "execute_result"
    },
    {
     "data": {
      "text/plain": [
       "Text(0.5,0,'Freq_Flag')"
      ]
     },
     "execution_count": 31,
     "metadata": {},
     "output_type": "execute_result"
    },
    {
     "data": {
      "text/plain": [
       "Text(0.5,1,'Frequency of Freq_Flag')"
      ]
     },
     "execution_count": 31,
     "metadata": {},
     "output_type": "execute_result"
    },
    {
     "data": {
      "image/png": "[encoded data removed]",
      "text/plain": [
       "<Figure size 864x576 with 1 Axes>"
      ]
     },
     "metadata": {},
     "output_type": "display_data"
    }
   ],
   "source": [
    "plt.figure(figsize=(12,8))\n",
    "sns.countplot(x='Freq_Flag', data=rfmTable)\n",
    "plt.ylabel('Count', fontsize=12)\n",
    "plt.xlabel('Freq_Flag', fontsize=12)\n",
    "plt.title('Frequency of Freq_Flag', fontsize=15)"
   ]
  },
  {
   "cell_type": "code",
   "execution_count": 32,
   "metadata": {},
   "outputs": [],
   "source": [
    "# Monetary Value (M):"
   ]
  },
  {
   "cell_type": "code",
   "execution_count": 33,
   "metadata": {},
   "outputs": [
    {
     "data": {
      "text/plain": [
       "1    830\n",
       "3    829\n",
       "2    829\n",
       "5    829\n",
       "4    829\n",
       "Name: Monetory_Flag, dtype: int64"
      ]
     },
     "execution_count": 33,
     "metadata": {},
     "output_type": "execute_result"
    }
   ],
   "source": [
    "rfmTable['Monetory_Flag'].value_counts()"
   ]
  },
  {
   "cell_type": "code",
   "execution_count": 34,
   "metadata": {},
   "outputs": [
    {
     "data": {
      "text/plain": [
       "<Figure size 864x576 with 0 Axes>"
      ]
     },
     "execution_count": 34,
     "metadata": {},
     "output_type": "execute_result"
    },
    {
     "data": {
      "text/plain": [
       "<matplotlib.axes._subplots.AxesSubplot at 0x1f207eb4e10>"
      ]
     },
     "execution_count": 34,
     "metadata": {},
     "output_type": "execute_result"
    },
    {
     "data": {
      "text/plain": [
       "Text(0,0.5,'Count')"
      ]
     },
     "execution_count": 34,
     "metadata": {},
     "output_type": "execute_result"
    },
    {
     "data": {
      "text/plain": [
       "Text(0.5,0,'Monetory_Flag')"
      ]
     },
     "execution_count": 34,
     "metadata": {},
     "output_type": "execute_result"
    },
    {
     "data": {
      "text/plain": [
       "Text(0.5,1,'Frequency of Monetory_Flag')"
      ]
     },
     "execution_count": 34,
     "metadata": {},
     "output_type": "execute_result"
    },
    {
     "data": {
      "image/png": "[encoded data removed]",
      "text/plain": [
       "<Figure size 864x576 with 1 Axes>"
      ]
     },
     "metadata": {},
     "output_type": "display_data"
    }
   ],
   "source": [
    "plt.figure(figsize=(12,8))\n",
    "sns.countplot(x='Monetory_Flag', data=rfmTable)\n",
    "plt.ylabel('Count', fontsize=12)\n",
    "plt.xlabel('Monetory_Flag', fontsize=12)\n",
    "plt.title('Frequency of Monetory_Flag', fontsize=15)"
   ]
  },
  {
   "cell_type": "code",
   "execution_count": 35,
   "metadata": {},
   "outputs": [
    {
     "data": {
      "text/plain": [
       "555    369\n",
       "111    305\n",
       "211    182\n",
       "455    153\n",
       "444    147\n",
       "333    119\n",
       "122    116\n",
       "232    116\n",
       "544    110\n",
       "344     95\n",
       "132     94\n",
       "222     94\n",
       "121     93\n",
       "243     83\n",
       "221     80\n",
       "433     78\n",
       "311     77\n",
       "322     68\n",
       "554     67\n",
       "343     67\n",
       "454     62\n",
       "355     62\n",
       "545     60\n",
       "323     54\n",
       "332     51\n",
       "354     50\n",
       "434     48\n",
       "445     46\n",
       "334     45\n",
       "533     44\n",
       "      ... \n",
       "114      7\n",
       "144      7\n",
       "245      7\n",
       "415      7\n",
       "442      7\n",
       "131      6\n",
       "425      5\n",
       "154      5\n",
       "414      5\n",
       "513      5\n",
       "125      5\n",
       "115      4\n",
       "315      4\n",
       "525      4\n",
       "421      3\n",
       "235      3\n",
       "353      3\n",
       "514      3\n",
       "153      2\n",
       "531      2\n",
       "515      2\n",
       "342      2\n",
       "145      2\n",
       "225      1\n",
       "431      1\n",
       "331      1\n",
       "553      1\n",
       "155      1\n",
       "542      1\n",
       "135      1\n",
       "Name: RFMScore, Length: 109, dtype: int64"
      ]
     },
     "execution_count": 35,
     "metadata": {},
     "output_type": "execute_result"
    }
   ],
   "source": [
    "# Key RFM segments\n",
    "rfmTable['RFMScore'].value_counts()"
   ]
  },
  {
   "cell_type": "code",
   "execution_count": 36,
   "metadata": {},
   "outputs": [],
   "source": [
    "def f(row):\n",
    "    if 4 <= row['Recency_Flag'] <= 5 and 4 <= row['FM_Mean'] <= 5:\n",
    "        val = 'Champions'\n",
    "    elif 3 <= row['Recency_Flag'] <= 5 and 3 <= row['FM_Mean'] <= 5:\n",
    "        val = 'Loyal Customers'\n",
    "    elif 3 <= row['Recency_Flag'] <= 5 and 1 <= row['FM_Mean'] <= 3:\n",
    "        val = 'Potential Loyalist'\n",
    "    elif 2 <= row['Recency_Flag'] <= 3 and 1 <= row['FM_Mean'] <= 3:\n",
    "        val = 'About To Sleep'\n",
    "    elif 0 <= row['Recency_Flag'] <= 2 and 2 <= row['FM_Mean'] <= 5:\n",
    "        val = 'At Risk'\n",
    "    elif 1 <= row['Recency_Flag'] <= 2 and 1 <= row['FM_Mean'] <= 2:\n",
    "        val = 'Hibernating' \n",
    "    return val"
   ]
  },
  {
   "cell_type": "markdown",
   "metadata": {},
   "source": [
    "def f(row):\n",
    "    if 4 <= row['Recency_Flag'] <= 5 and 4 <= row['FM_Mean'] <= 5:\n",
    "        val = 'Champions'\n",
    "    elif 3 <= row['Recency_Flag'] <= 5 and 3 <= row['FM_Mean'] <= 5:\n",
    "        val = 'Loyal Customers'\n",
    "    elif 3 <= row['Recency_Flag'] <= 5 and 1 <= row['FM_Mean'] <= 3:\n",
    "        val = 'Potential Loyalist'\n",
    "    elif 1 <= row['Recency_Flag'] <= 2 and 1 <= row['FM_Mean'] <= 2:\n",
    "        val = 'Hibernating' \n",
    "    elif 1 <= row['Recency_Flag'] <= 3 and 1 <= row['FM_Mean'] <= 5:\n",
    "        val = 'Customers Needing Attention'\n",
    "    return val"
   ]
  },
  {
   "cell_type": "code",
   "execution_count": 37,
   "metadata": {},
   "outputs": [],
   "source": [
    "rfmTable.insert(7,'FM_Mean',(rfmTable['Freq_Flag'] + rfmTable['Monetory_Flag'])/2)"
   ]
  },
  {
   "cell_type": "code",
   "execution_count": 38,
   "metadata": {},
   "outputs": [],
   "source": [
    "rfmTable['Segment']=rfmTable.apply(f, axis=1)"
   ]
  },
  {
   "cell_type": "code",
   "execution_count": 39,
   "metadata": {},
   "outputs": [
    {
     "data": {
      "text/plain": [
       "Segment\n",
       "About To Sleep         652\n",
       "At Risk                562\n",
       "Champions             1040\n",
       "Hibernating            437\n",
       "Loyal Customers        843\n",
       "Potential Loyalist     612\n",
       "Name: CustomerID, dtype: int64"
      ]
     },
     "execution_count": 39,
     "metadata": {},
     "output_type": "execute_result"
    }
   ],
   "source": [
    "rfmTable.groupby('Segment').count()['CustomerID']"
   ]
  },
  {
   "cell_type": "code",
   "execution_count": 40,
   "metadata": {},
   "outputs": [],
   "source": [
    "def f(row):\n",
    "    if row['Segment'] == 'Champions':\n",
    "        val = 'Give rewards; Build credibility; Promote New Products'\n",
    "    elif row['Segment'] == 'Loyal Customers':\n",
    "        val = 'Take feedbacks and surveys; Upsell your products; Present Bonuses'\n",
    "    elif row['Segment'] == 'Potential Loyalist':\n",
    "        val = 'Offer loyalty program; Run contests; Make them feel special'\n",
    "    elif row['Segment'] == 'About To Sleep':\n",
    "        val = 'Share valuable resource; Give your competitor analysis; Give relevant updates'\n",
    "    elif row['Segment'] == 'At Risk':\n",
    "        val = 'Offer Credit; Provide a wishlist; Upgrade offers'\n",
    "    elif row['Segment'] == 'Hibernating': \n",
    "        val = 'Decide if you want them back; Review your product; Send personalized campaign'\n",
    "    return val"
   ]
  },
  {
   "cell_type": "code",
   "execution_count": 41,
   "metadata": {},
   "outputs": [],
   "source": [
    "rfmTable['Strategy']=rfmTable.apply(f, axis=1)"
   ]
  },
  {
   "cell_type": "code",
   "execution_count": 42,
   "metadata": {},
   "outputs": [],
   "source": [
    "rfmTable.to_csv('customer_segment.csv',index=False)"
   ]
  }
 ],
 "metadata": {
  "kernelspec": {
   "display_name": "Python 3",
   "language": "python",
   "name": "python3"
  },
  "language_info": {
   "codemirror_mode": {
    "name": "ipython",
    "version": 3
   },
   "file_extension": ".py",
   "mimetype": "text/x-python",
   "name": "python",
   "nbconvert_exporter": "python",
   "pygments_lexer": "ipython3",
   "version": "3.6.5"
  }
 },
 "nbformat": 4,
 "nbformat_minor": 2
}
